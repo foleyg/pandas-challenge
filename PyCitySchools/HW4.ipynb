{
 "cells": [
  {
   "cell_type": "code",
   "execution_count": 154,
   "id": "b6bb87bd-67e9-420e-ad1f-a3d173f06c88",
   "metadata": {},
   "outputs": [
    {
     "data": {
      "text/html": [
       "<div>\n",
       "<style scoped>\n",
       "    .dataframe tbody tr th:only-of-type {\n",
       "        vertical-align: middle;\n",
       "    }\n",
       "\n",
       "    .dataframe tbody tr th {\n",
       "        vertical-align: top;\n",
       "    }\n",
       "\n",
       "    .dataframe thead th {\n",
       "        text-align: right;\n",
       "    }\n",
       "</style>\n",
       "<table border=\"1\" class=\"dataframe\">\n",
       "  <thead>\n",
       "    <tr style=\"text-align: right;\">\n",
       "      <th></th>\n",
       "      <th>Total Schools</th>\n",
       "      <th>Total Students</th>\n",
       "      <th>Total Budget</th>\n",
       "      <th>Average Math Score</th>\n",
       "      <th>Average Reading Score</th>\n",
       "      <th>% Passing Math</th>\n",
       "      <th>% Passing Reading</th>\n",
       "      <th>% Overall Passing</th>\n",
       "    </tr>\n",
       "  </thead>\n",
       "  <tbody>\n",
       "    <tr>\n",
       "      <th>0</th>\n",
       "      <td>15</td>\n",
       "      <td>39,170</td>\n",
       "      <td>$ 24,649,428.00</td>\n",
       "      <td>78.985371</td>\n",
       "      <td>81.87784</td>\n",
       "      <td>74.980853</td>\n",
       "      <td>85.805463</td>\n",
       "      <td>65.172326</td>\n",
       "    </tr>\n",
       "  </tbody>\n",
       "</table>\n",
       "</div>"
      ],
      "text/plain": [
       "   Total Schools  Total Students     Total Budget   Average Math Score  \\\n",
       "0              15          39,170  $ 24,649,428.00           78.985371   \n",
       "\n",
       "   Average Reading Score  % Passing Math  % Passing Reading  % Overall Passing  \n",
       "0               81.87784       74.980853          85.805463          65.172326  "
      ]
     },
     "execution_count": 154,
     "metadata": {},
     "output_type": "execute_result"
    }
   ],
   "source": [
    "import pandas as pd\n",
    "\n",
    "### District Summary\n",
    "# load in csv's - change these names eventually?\n",
    "school_data_to_load = \"Resources/schools_complete.csv\"\n",
    "student_data_to_load = \"Resources/students_complete.csv\"\n",
    "\n",
    "# now use pandas to read csv's and create dataframe by telling pandas to read the csv using the variable representing the path\n",
    "school_data = pd.read_csv(school_data_to_load)\n",
    "student_data = pd.read_csv(student_data_to_load)\n",
    "\n",
    "# now merge into one dataframe\n",
    "complete_data_df = pd.merge(student_data, school_data, how=\"left\", on=[\"school_name\", \"school_name\"]) \n",
    "\n",
    "# count the number of schools\n",
    "school_count = len(complete_data_df[\"school_name\"].unique())\n",
    "\n",
    "# count the number of students\n",
    "student_count = complete_data_df[\"Student ID\"].count()\n",
    "\n",
    "# calculate the total budget\n",
    "total_budget = school_data[\"budget\"].sum()\n",
    "\n",
    "# calculate the average math score\n",
    "average_math_score = complete_data_df[\"math_score\"].mean()\n",
    "\n",
    "# calculate the average reading score\n",
    "average_reading_score = complete_data_df[\"reading_score\"].mean()\n",
    "\n",
    "passing_math_df = complete_data_df.loc[complete_data_df[\"math_score\"] >= 70]\n",
    "passing_math_percent = ((len(passing_math_df))/student_count)*100\n",
    "\n",
    "passing_reading_df = complete_data_df.loc[complete_data_df[\"reading_score\"] >= 70]\n",
    "passing_reading_percent = ((len(passing_reading_df))/student_count)*100\n",
    "\n",
    "# passing_both_df = complete_data_df[(complete_data_df['math_score'] >= 70) & (complete_data_df['reading_score'] >= 70)]/student_count*100\n",
    "passing_both_df = complete_data_df[(complete_data_df['math_score'] >= 70) & (complete_data_df['reading_score'] >= 70)]['Student ID'].count()/student_count*100\n",
    "\n",
    "# # create summary dataframe using dictionary\n",
    "district_summary_df = pd.DataFrame({\"Total Schools \": [school_count],\n",
    "                                    \"Total Students \": f\"{student_count:,}\",\n",
    "                                    \"Total Budget \": f\"${total_budget: ,.2f}\",\n",
    "                                    \"Average Math Score\": [average_math_score],\n",
    "                                    \"Average Reading Score\": [average_reading_score],\n",
    "                                    \"% Passing Math\": [passing_math_percent],\n",
    "                                    \"% Passing Reading\": [passing_reading_percent],\n",
    "                                    \"% Overall Passing\": [passing_both_df]\n",
    "                                   })\n",
    "district_summary_df"
   ]
  },
  {
   "cell_type": "code",
   "execution_count": 147,
   "id": "17e56222-a699-429d-a6d0-1935cc786f16",
   "metadata": {},
   "outputs": [],
   "source": [
    "# ### School Summary\n",
    "# school_summary_df = complete_data_df.groupby(\"school_name\")\n",
    "# school_summary_df.head()"
   ]
  },
  {
   "cell_type": "code",
   "execution_count": null,
   "id": "b0ae9410-7fe9-49b5-b519-540aaed7c962",
   "metadata": {},
   "outputs": [],
   "source": []
  }
 ],
 "metadata": {
  "kernelspec": {
   "display_name": "Python 3 (ipykernel)",
   "language": "python",
   "name": "python3"
  },
  "language_info": {
   "codemirror_mode": {
    "name": "ipython",
    "version": 3
   },
   "file_extension": ".py",
   "mimetype": "text/x-python",
   "name": "python",
   "nbconvert_exporter": "python",
   "pygments_lexer": "ipython3",
   "version": "3.9.12"
  }
 },
 "nbformat": 4,
 "nbformat_minor": 5
}
