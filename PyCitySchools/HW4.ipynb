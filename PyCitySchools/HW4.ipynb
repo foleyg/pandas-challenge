{
 "cells": [
  {
   "cell_type": "code",
   "execution_count": 274,
   "id": "b6bb87bd-67e9-420e-ad1f-a3d173f06c88",
   "metadata": {},
   "outputs": [
    {
     "data": {
      "text/html": [
       "<div>\n",
       "<style scoped>\n",
       "    .dataframe tbody tr th:only-of-type {\n",
       "        vertical-align: middle;\n",
       "    }\n",
       "\n",
       "    .dataframe tbody tr th {\n",
       "        vertical-align: top;\n",
       "    }\n",
       "\n",
       "    .dataframe thead th {\n",
       "        text-align: right;\n",
       "    }\n",
       "</style>\n",
       "<table border=\"1\" class=\"dataframe\">\n",
       "  <thead>\n",
       "    <tr style=\"text-align: right;\">\n",
       "      <th></th>\n",
       "      <th>Total Schools</th>\n",
       "      <th>Total Students</th>\n",
       "      <th>Total Budget</th>\n",
       "      <th>Average Math Score</th>\n",
       "      <th>Average Reading Score</th>\n",
       "      <th>% Passing Math</th>\n",
       "      <th>% Passing Reading</th>\n",
       "      <th>% Overall Passing</th>\n",
       "    </tr>\n",
       "  </thead>\n",
       "  <tbody>\n",
       "    <tr>\n",
       "      <th>0</th>\n",
       "      <td>15</td>\n",
       "      <td>39,170</td>\n",
       "      <td>$ 24,649,428.00</td>\n",
       "      <td>78.985371</td>\n",
       "      <td>81.87784</td>\n",
       "      <td>74.980853</td>\n",
       "      <td>85.805463</td>\n",
       "      <td>65.172326</td>\n",
       "    </tr>\n",
       "  </tbody>\n",
       "</table>\n",
       "</div>"
      ],
      "text/plain": [
       "   Total Schools  Total Students     Total Budget   Average Math Score  \\\n",
       "0              15          39,170  $ 24,649,428.00           78.985371   \n",
       "\n",
       "   Average Reading Score  % Passing Math  % Passing Reading  % Overall Passing  \n",
       "0               81.87784       74.980853          85.805463          65.172326  "
      ]
     },
     "execution_count": 274,
     "metadata": {},
     "output_type": "execute_result"
    }
   ],
   "source": [
    "import pandas as pd\n",
    "\n",
    "### District Summary\n",
    "# load in csv's - change these names eventually?\n",
    "school_data_to_load = \"Resources/schools_complete.csv\"\n",
    "student_data_to_load = \"Resources/students_complete.csv\"\n",
    "\n",
    "# now use pandas to read csv's and create dataframe by telling pandas to read the csv using the variable representing the path\n",
    "school_data = pd.read_csv(school_data_to_load)\n",
    "student_data = pd.read_csv(student_data_to_load)\n",
    "\n",
    "# now merge into one dataframe\n",
    "complete_data_df = pd.merge(student_data, school_data, how=\"left\", on=[\"school_name\", \"school_name\"]) \n",
    "\n",
    "# count the number of schools\n",
    "school_count = len(complete_data_df[\"school_name\"].unique())\n",
    "# school_count = len(set(complete_data_df[\"school_name\"]))\n",
    "\n",
    "# count the number of students\n",
    "student_count = len(complete_data_df[\"Student ID\"].unique())\n",
    "\n",
    "# calculate the total budget\n",
    "total_budget = school_data[\"budget\"].sum()\n",
    "\n",
    "# calculate the average math score\n",
    "average_math_score = complete_data_df[\"math_score\"].mean()\n",
    "\n",
    "# calculate the average reading score\n",
    "average_reading_score = complete_data_df[\"reading_score\"].mean()\n",
    "\n",
    "passing_math_df = complete_data_df.loc[complete_data_df[\"math_score\"] >= 70]\n",
    "passing_math_percent = ((len(passing_math_df))/student_count)*100\n",
    "\n",
    "passing_reading_df = complete_data_df.loc[complete_data_df[\"reading_score\"] >= 70]\n",
    "passing_reading_percent = ((len(passing_reading_df))/student_count)*100\n",
    "\n",
    "# passing_both_df = complete_data_df[(complete_data_df['math_score'] >= 70) & (complete_data_df['reading_score'] >= 70)]/student_count*100\n",
    "passing_both_df = complete_data_df[(complete_data_df['math_score'] >= 70) & (complete_data_df['reading_score'] >= 70)]['Student ID'].count()/student_count*100\n",
    "\n",
    "# # create summary dataframe using dictionary\n",
    "district_summary_df = pd.DataFrame({\"Total Schools \": [school_count],\n",
    "                                    \"Total Students \": f\"{student_count:,}\",\n",
    "                                    \"Total Budget \": f\"${total_budget: ,.2f}\",\n",
    "                                    \"Average Math Score\": [average_math_score],\n",
    "                                    \"Average Reading Score\": [average_reading_score],\n",
    "                                    \"% Passing Math\": [passing_math_percent],\n",
    "                                    \"% Passing Reading\": [passing_reading_percent],\n",
    "                                    \"% Overall Passing\": [passing_both_df]\n",
    "                                   })\n",
    "district_summary_df"
   ]
  },
  {
   "cell_type": "code",
   "execution_count": 275,
   "id": "1fd92ded-6043-4361-a6a7-6b57f3b359be",
   "metadata": {},
   "outputs": [],
   "source": [
    "### School Summary\n",
    "# setting the index to school_name and grouping by school_name\n",
    "school_name = complete_data_df.set_index(\"school_name\").groupby(['school_name'])\n",
    "school_type = school_data.set_index('school_name')['type']"
   ]
  },
  {
   "cell_type": "code",
   "execution_count": 279,
   "id": "30117e63-48c3-4ee8-8b08-a85d2d25bae4",
   "metadata": {},
   "outputs": [
    {
     "ename": "NameError",
     "evalue": "name 'school_data_complete' is not defined",
     "output_type": "error",
     "traceback": [
      "\u001b[0;31m---------------------------------------------------------------------------\u001b[0m",
      "\u001b[0;31mNameError\u001b[0m                                 Traceback (most recent call last)",
      "Input \u001b[0;32mIn [279]\u001b[0m, in \u001b[0;36m<cell line: 10>\u001b[0;34m()\u001b[0m\n\u001b[1;32m      8\u001b[0m passing_reading_ss \u001b[38;5;241m=\u001b[39m passing_reading_df\u001b[38;5;241m.\u001b[39mgroupby(\u001b[38;5;124m'\u001b[39m\u001b[38;5;124mschool_name\u001b[39m\u001b[38;5;124m'\u001b[39m)[\u001b[38;5;124m'\u001b[39m\u001b[38;5;124mStudent ID\u001b[39m\u001b[38;5;124m'\u001b[39m]\u001b[38;5;241m.\u001b[39mcount()\u001b[38;5;241m/\u001b[39mstudent_count_ss\u001b[38;5;241m*\u001b[39m\u001b[38;5;241m100\u001b[39m\n\u001b[1;32m      9\u001b[0m \u001b[38;5;66;03m# passing_overall_ss = passing_both_df.groupby('school_name')['Student ID'].count()/student_count_ss*100\u001b[39;00m\n\u001b[0;32m---> 10\u001b[0m passing_overall_ss \u001b[38;5;241m=\u001b[39m \u001b[43mschool_data_complete\u001b[49m[(school_data_complete[\u001b[38;5;124m'\u001b[39m\u001b[38;5;124mreading_score\u001b[39m\u001b[38;5;124m'\u001b[39m] \u001b[38;5;241m>\u001b[39m\u001b[38;5;241m=\u001b[39m \u001b[38;5;241m70\u001b[39m) \u001b[38;5;241m&\u001b[39m (school_data_complete[\u001b[38;5;124m'\u001b[39m\u001b[38;5;124mmath_score\u001b[39m\u001b[38;5;124m'\u001b[39m] \u001b[38;5;241m>\u001b[39m\u001b[38;5;241m=\u001b[39m \u001b[38;5;241m70\u001b[39m)]\u001b[38;5;241m.\u001b[39mgroupby(\u001b[38;5;124m'\u001b[39m\u001b[38;5;124mschool_name\u001b[39m\u001b[38;5;124m'\u001b[39m)[\u001b[38;5;124m'\u001b[39m\u001b[38;5;124mStudent ID\u001b[39m\u001b[38;5;124m'\u001b[39m]\u001b[38;5;241m.\u001b[39mcount()\u001b[38;5;241m/\u001b[39mtotal_student\u001b[38;5;241m*\u001b[39m\u001b[38;5;241m100\u001b[39m\n\u001b[1;32m     13\u001b[0m \u001b[38;5;66;03m# eventually will create a new df called school_summary_df\u001b[39;00m\n\u001b[1;32m     14\u001b[0m school_summary_df \u001b[38;5;241m=\u001b[39m pd\u001b[38;5;241m.\u001b[39mDataFrame({\u001b[38;5;124m\"\u001b[39m\u001b[38;5;124mSchool Type\u001b[39m\u001b[38;5;124m\"\u001b[39m: school_type,\n\u001b[1;32m     15\u001b[0m                                   \u001b[38;5;124m\"\u001b[39m\u001b[38;5;124mTotal Students\u001b[39m\u001b[38;5;124m\"\u001b[39m: student_count_ss,\n\u001b[1;32m     16\u001b[0m                                   \u001b[38;5;124m\"\u001b[39m\u001b[38;5;124mTotal School Budget\u001b[39m\u001b[38;5;124m\"\u001b[39m: school_budget_ss,\n\u001b[0;32m   (...)\u001b[0m\n\u001b[1;32m     22\u001b[0m                                   \u001b[38;5;66;03m# \"$ Passing Overall\": passing_overall_ss\u001b[39;00m\n\u001b[1;32m     23\u001b[0m                                  })\n",
      "\u001b[0;31mNameError\u001b[0m: name 'school_data_complete' is not defined"
     ]
    }
   ],
   "source": [
    "student_count_ss = school_name['Student ID'].count()\n",
    "school_budget_ss = school_data.set_index('school_name')['budget']\n",
    "student_budget_ss = (school_data.set_index('school_name')['budget']\n",
    "                     /school_data.set_index('school_name')['size'])\n",
    "average_math_ss = school_name['math_score'].mean()\n",
    "average_reading_ss = school_name['reading_score'].mean()\n",
    "passing_math_ss = passing_math_df.groupby('school_name')['Student ID'].count()/student_count_ss*100\n",
    "passing_reading_ss = passing_reading_df.groupby('school_name')['Student ID'].count()/student_count_ss*100\n",
    "# passing_overall_ss = passing_both_df.groupby('school_name')['Student ID'].count()/student_count_ss*100\n",
    "passing_overall_ss = school_data_complete[(school_data_complete['reading_score'] >= 70) & (school_data_complete['math_score'] >= 70)].groupby('school_name')['Student ID'].count()/total_student*100\n",
    "\n",
    "\n",
    "# eventually will create a new df called school_summary_df\n",
    "school_summary_df = pd.DataFrame({\"School Type\": school_type,\n",
    "                                  \"Total Students\": student_count_ss,\n",
    "                                  \"Total School Budget\": school_budget_ss,\n",
    "                                  \"Per Student Budget\": student_budget_ss,\n",
    "                                  \"Average Math Score\": average_math_ss,\n",
    "                                  \"Average Reading Score\": average_reading_ss,\n",
    "                                  \"% Passing Math\": passing_math_ss,\n",
    "                                  \"% Passing Reading\": passing_reading_ss,\n",
    "                                  # \"$ Passing Overall\": passing_overall_ss\n",
    "                                 })\n",
    "                                   \n",
    "school_summary_df"
   ]
  },
  {
   "cell_type": "code",
   "execution_count": 277,
   "id": "b0ae9410-7fe9-49b5-b519-540aaed7c962",
   "metadata": {},
   "outputs": [
    {
     "ename": "KeyError",
     "evalue": "'% Overall Passing'",
     "output_type": "error",
     "traceback": [
      "\u001b[0;31m---------------------------------------------------------------------------\u001b[0m",
      "\u001b[0;31mKeyError\u001b[0m                                  Traceback (most recent call last)",
      "Input \u001b[0;32mIn [277]\u001b[0m, in \u001b[0;36m<cell line: 3>\u001b[0;34m()\u001b[0m\n\u001b[1;32m      1\u001b[0m \u001b[38;5;66;03m### Top Performing Schools (By % Overall Passing)\u001b[39;00m\n\u001b[0;32m----> 3\u001b[0m top_performing \u001b[38;5;241m=\u001b[39m \u001b[43mschool_summary_df\u001b[49m\u001b[38;5;241;43m.\u001b[39;49m\u001b[43msort_values\u001b[49m\u001b[43m(\u001b[49m\u001b[38;5;124;43m\"\u001b[39;49m\u001b[38;5;124;43m%\u001b[39;49m\u001b[38;5;124;43m Overall Passing\u001b[39;49m\u001b[38;5;124;43m\"\u001b[39;49m\u001b[43m,\u001b[49m\u001b[43m \u001b[49m\u001b[43mascending\u001b[49m\u001b[43m \u001b[49m\u001b[38;5;241;43m=\u001b[39;49m\u001b[43m \u001b[49m\u001b[38;5;28;43;01mFalse\u001b[39;49;00m\u001b[43m)\u001b[49m\n",
      "File \u001b[0;32m~/opt/anaconda3/lib/python3.9/site-packages/pandas/util/_decorators.py:311\u001b[0m, in \u001b[0;36mdeprecate_nonkeyword_arguments.<locals>.decorate.<locals>.wrapper\u001b[0;34m(*args, **kwargs)\u001b[0m\n\u001b[1;32m    305\u001b[0m \u001b[38;5;28;01mif\u001b[39;00m \u001b[38;5;28mlen\u001b[39m(args) \u001b[38;5;241m>\u001b[39m num_allow_args:\n\u001b[1;32m    306\u001b[0m     warnings\u001b[38;5;241m.\u001b[39mwarn(\n\u001b[1;32m    307\u001b[0m         msg\u001b[38;5;241m.\u001b[39mformat(arguments\u001b[38;5;241m=\u001b[39marguments),\n\u001b[1;32m    308\u001b[0m         \u001b[38;5;167;01mFutureWarning\u001b[39;00m,\n\u001b[1;32m    309\u001b[0m         stacklevel\u001b[38;5;241m=\u001b[39mstacklevel,\n\u001b[1;32m    310\u001b[0m     )\n\u001b[0;32m--> 311\u001b[0m \u001b[38;5;28;01mreturn\u001b[39;00m \u001b[43mfunc\u001b[49m\u001b[43m(\u001b[49m\u001b[38;5;241;43m*\u001b[39;49m\u001b[43margs\u001b[49m\u001b[43m,\u001b[49m\u001b[43m \u001b[49m\u001b[38;5;241;43m*\u001b[39;49m\u001b[38;5;241;43m*\u001b[39;49m\u001b[43mkwargs\u001b[49m\u001b[43m)\u001b[49m\n",
      "File \u001b[0;32m~/opt/anaconda3/lib/python3.9/site-packages/pandas/core/frame.py:6313\u001b[0m, in \u001b[0;36mDataFrame.sort_values\u001b[0;34m(self, by, axis, ascending, inplace, kind, na_position, ignore_index, key)\u001b[0m\n\u001b[1;32m   6309\u001b[0m \u001b[38;5;28;01melif\u001b[39;00m \u001b[38;5;28mlen\u001b[39m(by):\n\u001b[1;32m   6310\u001b[0m     \u001b[38;5;66;03m# len(by) == 1\u001b[39;00m\n\u001b[1;32m   6312\u001b[0m     by \u001b[38;5;241m=\u001b[39m by[\u001b[38;5;241m0\u001b[39m]\n\u001b[0;32m-> 6313\u001b[0m     k \u001b[38;5;241m=\u001b[39m \u001b[38;5;28;43mself\u001b[39;49m\u001b[38;5;241;43m.\u001b[39;49m\u001b[43m_get_label_or_level_values\u001b[49m\u001b[43m(\u001b[49m\u001b[43mby\u001b[49m\u001b[43m,\u001b[49m\u001b[43m \u001b[49m\u001b[43maxis\u001b[49m\u001b[38;5;241;43m=\u001b[39;49m\u001b[43maxis\u001b[49m\u001b[43m)\u001b[49m\n\u001b[1;32m   6315\u001b[0m     \u001b[38;5;66;03m# need to rewrap column in Series to apply key function\u001b[39;00m\n\u001b[1;32m   6316\u001b[0m     \u001b[38;5;28;01mif\u001b[39;00m key \u001b[38;5;129;01mis\u001b[39;00m \u001b[38;5;129;01mnot\u001b[39;00m \u001b[38;5;28;01mNone\u001b[39;00m:\n\u001b[1;32m   6317\u001b[0m         \u001b[38;5;66;03m# error: Incompatible types in assignment (expression has type\u001b[39;00m\n\u001b[1;32m   6318\u001b[0m         \u001b[38;5;66;03m# \"Series\", variable has type \"ndarray\")\u001b[39;00m\n",
      "File \u001b[0;32m~/opt/anaconda3/lib/python3.9/site-packages/pandas/core/generic.py:1840\u001b[0m, in \u001b[0;36mNDFrame._get_label_or_level_values\u001b[0;34m(self, key, axis)\u001b[0m\n\u001b[1;32m   1838\u001b[0m     values \u001b[38;5;241m=\u001b[39m \u001b[38;5;28mself\u001b[39m\u001b[38;5;241m.\u001b[39maxes[axis]\u001b[38;5;241m.\u001b[39mget_level_values(key)\u001b[38;5;241m.\u001b[39m_values\n\u001b[1;32m   1839\u001b[0m \u001b[38;5;28;01melse\u001b[39;00m:\n\u001b[0;32m-> 1840\u001b[0m     \u001b[38;5;28;01mraise\u001b[39;00m \u001b[38;5;167;01mKeyError\u001b[39;00m(key)\n\u001b[1;32m   1842\u001b[0m \u001b[38;5;66;03m# Check for duplicates\u001b[39;00m\n\u001b[1;32m   1843\u001b[0m \u001b[38;5;28;01mif\u001b[39;00m values\u001b[38;5;241m.\u001b[39mndim \u001b[38;5;241m>\u001b[39m \u001b[38;5;241m1\u001b[39m:\n",
      "\u001b[0;31mKeyError\u001b[0m: '% Overall Passing'"
     ]
    }
   ],
   "source": [
    "### Top Performing Schools (By % Overall Passing)\n",
    "\n",
    "top_performing = school_summary_df.sort_values(\"% Overall Passing\", ascending = False)\n"
   ]
  }
 ],
 "metadata": {
  "kernelspec": {
   "display_name": "Python 3 (ipykernel)",
   "language": "python",
   "name": "python3"
  },
  "language_info": {
   "codemirror_mode": {
    "name": "ipython",
    "version": 3
   },
   "file_extension": ".py",
   "mimetype": "text/x-python",
   "name": "python",
   "nbconvert_exporter": "python",
   "pygments_lexer": "ipython3",
   "version": "3.9.12"
  }
 },
 "nbformat": 4,
 "nbformat_minor": 5
}
